{
 "cells": [
  {
   "cell_type": "code",
   "execution_count": 1,
   "metadata": {},
   "outputs": [
    {
     "data": {
      "text/plain": [
       "array([[-0.3,  9.7, -0.3,  5.2, -0.3],\n",
       "       [-0.1,  2.3, -0.1,  1.2, -0.1],\n",
       "       [-0. ,  0.5, -0. ,  0.3, -0. ],\n",
       "       [-0.1,  0. , -0.1, -0. , -0.1],\n",
       "       [-0.3, -0.3, -0.3, -0.3, -0.3]])"
      ]
     },
     "execution_count": 1,
     "metadata": {},
     "output_type": "execute_result"
    }
   ],
   "source": [
    "import numpy as np\n",
    "import random\n",
    "\n",
    "grid = np.zeros((5,5))\n",
    "grid\n",
    "\n",
    "Y = .90  #discount value\n",
    "for num in range(1000): #number of times we will go through the whole grid\n",
    "    i=random.randint(0,4)\n",
    "    j=random.randint(0,4)\n",
    "      \n",
    "    up_grid = grid[i-1][j] if i > 0 else None   #if going up takes us out of the grid then its value be 0\n",
    "    down_grid = grid[i+1][j] if i < 4 else None  #if going down takes us out of the grid then its value be 0\n",
    "    left_grid = grid[i][j-1] if j > 0 else None  #if going left takes us out of the grid then its value be 0\n",
    "    right_grid = grid[i][j+1] if j < 4 else None  #if going right takes us out of the grid then its value be 0\n",
    "    if num <=750:\n",
    "        all_dirs = [up_grid, down_grid, left_grid, right_grid]  \n",
    "    else:\n",
    "        all_dirs = [up_grid, down_grid]#, left_grid, right_grid]     \n",
    "\n",
    "    value=0  \n",
    "    if i==0 and j==1: # the position of A\n",
    "        value = 10 + Y*grid[4][1]\n",
    "    elif i==0 and j==3: # the position of B\n",
    "        value = 5 + Y*grid[2][3]\n",
    "    else:\n",
    "        for direc in all_dirs:\n",
    "            if direc != None: \n",
    "                value += .25 * (0 + Y*direc)  #if we don't go out of the grid\n",
    "            else:\n",
    "                value += .25 * (-1 + Y*grid[i][j]) #if we go out of the grid\n",
    "        \n",
    "    grid[i][j] = value\n",
    "\n",
    "np.round(grid, 1)"
   ]
  }
 ],
 "metadata": {
  "kernelspec": {
   "display_name": "Python 3",
   "language": "python",
   "name": "python3"
  },
  "language_info": {
   "codemirror_mode": {
    "name": "ipython",
    "version": 3
   },
   "file_extension": ".py",
   "mimetype": "text/x-python",
   "name": "python",
   "nbconvert_exporter": "python",
   "pygments_lexer": "ipython3",
   "version": "3.8.5"
  }
 },
 "nbformat": 4,
 "nbformat_minor": 4
}
